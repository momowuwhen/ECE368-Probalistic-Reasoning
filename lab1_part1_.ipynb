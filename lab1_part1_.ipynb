{
  "nbformat": 4,
  "nbformat_minor": 0,
  "metadata": {
    "colab": {
      "name": "lab1_part1 .ipynb",
      "provenance": [],
      "collapsed_sections": []
    },
    "kernelspec": {
      "name": "python3",
      "display_name": "Python 3"
    }
  },
  "cells": [
    {
      "cell_type": "code",
      "metadata": {
        "id": "K1vd89CSdI4L"
      },
      "source": [
        "import os.path\n",
        "import numpy as np\n",
        "import matplotlib.pyplot as plt\n",
        "import math\n",
        "from numpy import inf\n",
        "import torch\n"
      ],
      "execution_count": null,
      "outputs": []
    },
    {
      "cell_type": "code",
      "metadata": {
        "id": "rTuy2sffj56l"
      },
      "source": [
        "#mount googledrive\n",
        "from google.colab import drive\n",
        "drive.mount('/content/gdrive') "
      ],
      "execution_count": null,
      "outputs": []
    },
    {
      "cell_type": "code",
      "metadata": {
        "id": "2Gg37VxKgLvi"
      },
      "source": [
        "import os\n",
        "\n",
        "def get_words_in_file(filename):\n",
        "    \"\"\" Returns a list of all words in the file at filename. \"\"\"\n",
        "    with open(filename, 'r', encoding = \"ISO-8859-1\") as f:\n",
        "        # read() reads in a string from a file pointer, and split() splits a\n",
        "        # string into words based on whitespace\n",
        "        words = f.read().split()\n",
        "    return words\n",
        "\n",
        "def get_files_in_folder(folder):\n",
        "    \"\"\" Returns a list of files in folder (including the path to the file) \"\"\"\n",
        "    filenames = os.listdir(folder)\n",
        "    # os.path.join combines paths while dealing with /s and \\s appropriately\n",
        "    full_filenames = [os.path.join(folder, filename) for filename in filenames]\n",
        "    return full_filenames\n",
        "\n",
        "def get_counts(file_list):\n",
        "    \"\"\" \n",
        "    Returns a dict whose keys are words and whose values are the number of \n",
        "    files in file_list the key occurred in. \n",
        "    \"\"\"\n",
        "    counts = Counter()\n",
        "    for f in file_list:\n",
        "        words = get_words_in_file(f)\n",
        "        for w in set(words):\n",
        "            counts[w] += 1\n",
        "    return counts\n",
        "\n",
        "def get_word_freq(file_list):\n",
        "    \"\"\" \n",
        "    Returns a dict whose keys are words and whose values are word freq\n",
        "    \"\"\"\n",
        "    counts = Counter()\n",
        "    for f in file_list:\n",
        "        words = get_words_in_file(f)\n",
        "        for w in words:\n",
        "            counts[w] += 1\n",
        "    return counts\n",
        "\n",
        "class Counter(dict):\n",
        "    \"\"\"\n",
        "    Like a dict, but returns 0 if the key isn't found.\n",
        "    \"\"\"\n",
        "    def __missing__(self, key):\n",
        "        return 0\n",
        "\n"
      ],
      "execution_count": null,
      "outputs": []
    },
    {
      "cell_type": "code",
      "metadata": {
        "id": "x-le4_1HhUvb"
      },
      "source": [
        "def learn_distributions(file_lists_by_category):\n",
        "    \"\"\"\n",
        "    Estimate the parameters p_d, and q_d from the training set\n",
        "    \n",
        "    Input\n",
        "    -----\n",
        "    file_lists_by_category:  A two-element list. \n",
        "                             The first element is a list of spam files, \n",
        "                             and the second element is a list of ham files.\n",
        "\n",
        "    Output\n",
        "    ------\n",
        "    probabilities_by_category: A two-element tuple. \n",
        "                              The first element is a dict whose keys are words, and whose values are the smoothed estimates of p_d;\n",
        "                              the second element is a dict whose keys are words, and whose values are the smoothed estimates of q_d \n",
        "    \"\"\"\n",
        "    ### TODO: Write your code here\n",
        "\n",
        "    spam_file_list = file_lists_by_category[0]\n",
        "    ham_file_list = file_lists_by_category[1]\n",
        "    \n",
        "\n",
        "    spam_dic = get_word_freq(spam_file_list)\n",
        "    ham_dic = get_word_freq(ham_file_list)\n",
        "    total_dic = get_word_freq(spam_file_list + ham_file_list)\n",
        "\n",
        "    tot_words_spam = sum(spam_dic.values())\n",
        "    tot_words_ham = sum(ham_dic.values())\n",
        "    tot_distinct_words = len(total_dic)\n",
        "    \n",
        "    first_dic = {}\n",
        "    second_dic = {}\n",
        "    for wd in total_dic:\n",
        "      p_d = (spam_dic[wd]+1)/(tot_words_spam + tot_distinct_words)\n",
        "      q_d = (ham_dic[wd]+1)/(tot_words_ham + tot_distinct_words)\n",
        "      first_dic[wd] = p_d\n",
        "      second_dic[wd] = q_d\n",
        "        \n",
        "    probabilities_by_category = (first_dic, second_dic)\n",
        "    \n",
        "    return probabilities_by_category\n"
      ],
      "execution_count": null,
      "outputs": []
    },
    {
      "cell_type": "code",
      "metadata": {
        "id": "EAvaemjTfs2H"
      },
      "source": [
        "def classify_new_email(filename,probabilities_by_category,prior_by_category,p_tradeoff):\n",
        "    \"\"\"\n",
        "    Use Naive Bayes classification to classify the email in the given file.\n",
        "\n",
        "    Inputs\n",
        "    ------\n",
        "    filename: name of the file to be classified\n",
        "    \n",
        "    probabilities_by_category: output of function learn_distributions\n",
        "    \n",
        "    prior_by_category: A two-element list as [\\pi, 1-\\pi], where \\pi is the parameter in the prior class distribution\n",
        "\n",
        "    Output\n",
        "    ------\n",
        "    classify_result: A two-element tuple. \n",
        "                    The first element is a string whose value is either 'spam' or 'ham' depending on the classification result, \n",
        "                    and the second element is a two-element list as [log p(y=1|x), log p(y=0|x)], representing the log posterior probabilities\n",
        "    \"\"\"\n",
        "    ### TODO: Write your code here\n",
        "\n",
        "    ###word_list = get_words_in_file(filename)\n",
        "    ###dic_word_freq = Counter()\n",
        "    ###for wd in word_list:\n",
        "    ###        dic_word_freq[wd] += 1\n",
        "\n",
        "    filename_list = (filename, 1)\n",
        "    dic_word_freq = get_word_freq(filename_list[0:1])\n",
        "\n",
        "    spam_prior = prior_by_category[0]\n",
        "    ham_prior = prior_by_category[1]\n",
        "\n",
        "    log_spam_prior = np.log(spam_prior)\n",
        "    log_ham_prior = np.log(ham_prior)\n",
        "\n",
        "    log_spam_likelihood = 0\n",
        "    log_ham_likelihood = 0\n",
        "\n",
        "    for wd in dic_word_freq:\n",
        "      if wd in probabilities_by_category[0] and wd in probabilities_by_category[1]:\n",
        "        log_spam_likelihood = log_spam_likelihood + np.log(probabilities_by_category[0][wd]) * dic_word_freq[wd] \n",
        "        log_ham_likelihood = log_ham_likelihood + np.log(probabilities_by_category[1][wd]) * dic_word_freq[wd]\n",
        "        \n",
        "    log_spam_posterior = log_spam_prior + log_spam_likelihood \n",
        "    log_ham_posterior = log_ham_prior + log_ham_likelihood \n",
        "\n",
        "    if log_spam_posterior >= log_ham_posterior + np.log(p_tradeoff):\n",
        "      result_str = 'spam'\n",
        "    else:\n",
        "      result_str = 'ham'\n",
        "\n",
        "    classify_result = (result_str, [log_spam_posterior, log_ham_posterior])\n",
        "\n",
        "    return classify_result\n"
      ],
      "execution_count": null,
      "outputs": []
    },
    {
      "cell_type": "markdown",
      "metadata": {
        "id": "SUwuaQlDdJEs"
      },
      "source": [
        ""
      ]
    },
    {
      "cell_type": "code",
      "metadata": {
        "id": "CtBd4wKwgAA0",
        "outputId": "3741c452-4af2-483c-9d8b-b46ec97278f9",
        "colab": {
          "base_uri": "https://localhost:8080/",
          "height": 35
        }
      },
      "source": [
        "if __name__ == '__main__':\n",
        "    \n",
        "    # folder for training and testing \n",
        "    spam_folder = '/content/gdrive/My Drive/ECE368/data/spam/'\n",
        "    ham_folder = '/content/gdrive/My Drive/ECE368/data/ham/'\n",
        "    test_folder = '/content/gdrive/My Drive/ECE368/data/testing/'\n",
        "\n",
        "    # generate the file lists for training\n",
        "    file_lists = []\n",
        "    for folder in (spam_folder, ham_folder):\n",
        "        file_lists.append(get_files_in_folder(folder))\n",
        "        \n",
        "    # Learn the distributions    \n",
        "    probabilities_by_category = learn_distributions(file_lists)\n",
        "    \n",
        "    # prior class distribution\n",
        "    priors_by_category = [0.5, 0.5]\n",
        "    \n",
        "    # Store the classification results\n",
        "    performance_measures = np.zeros([2,2])\n",
        "    # explanation of performance_measures:\n",
        "    # columns and rows are indexed by 0 = 'spam' and 1 = 'ham'\n",
        "    # rows correspond to true label, columns correspond to guessed label\n",
        "    # to be more clear, performance_measures = [[p1 p2]\n",
        "    #                                           [p3 p4]]\n",
        "    # p1 = Number of emails whose true label is 'spam' and classified as 'spam' \n",
        "    # p2 = Number of emails whose true label is 'spam' and classified as 'ham' \n",
        "    # p3 = Number of emails whose true label is 'ham' and classified as 'spam' \n",
        "    # p4 = Number of emails whose true label is 'ham' and classified as 'ham' \n",
        "\n",
        "\n",
        "    p_tradeoff = 1\n",
        "    # Classify emails from testing set and measure the performance\n",
        "    for filename in (get_files_in_folder(test_folder)):\n",
        "        # Classify\n",
        "        label,log_posterior = classify_new_email(filename,\n",
        "                                                 probabilities_by_category,\n",
        "                                                 priors_by_category,p_tradeoff)\n",
        "        \n",
        "        # Measure performance (the filename indicates the true label)\n",
        "        base = os.path.basename(filename)\n",
        "        true_index = ('ham' in base) \n",
        "        guessed_index = (label == 'ham')\n",
        "        performance_measures[int(true_index), int(guessed_index)] += 1\n",
        "\n",
        "    template=\"You correctly classified %d out of %d spam emails, and %d out of %d ham emails.\"\n",
        "    # Correct counts are on the diagonal\n",
        "    correct = np.diag(performance_measures)\n",
        "    # totals are obtained by summing across guessed labels\n",
        "    totals = np.sum(performance_measures, 1)\n",
        "    print(template % (correct[0],totals[0],correct[1],totals[1]))\n",
        "    \n",
        "    "
      ],
      "execution_count": null,
      "outputs": [
        {
          "output_type": "stream",
          "text": [
            "You correctly classified 47 out of 49 spam emails, and 47 out of 51 ham emails.\n"
          ],
          "name": "stdout"
        }
      ]
    },
    {
      "cell_type": "code",
      "metadata": {
        "id": "7J7QOnVV5GFI"
      },
      "source": [
        "def make_prediction(priors_by_category, test_folder, probabilities_by_category):\n",
        "    # Store the classification results\n",
        "    performance_measures = np.zeros([2,2])\n",
        "    # explanation of performance_measures:\n",
        "    # columns and rows are indexed by 0 = 'spam' and 1 = 'ham'\n",
        "    # rows correspond to true label, columns correspond to guessed label\n",
        "    # to be more clear, performance_measures = [[p1 p2]\n",
        "    #                                           [p3 p4]]\n",
        "    # p1 = Number of emails whose true label is 'spam' and classified as 'spam' \n",
        "    # p2 = Number of emails whose true label is 'spam' and classified as 'ham' \n",
        "    # p3 = Number of emails whose true label is 'ham' and classified as 'spam' \n",
        "    # p4 = Number of emails whose true label is 'ham' and classified as 'ham' \n",
        "\n",
        "    # Classify emails from testing set and measure the performance\n",
        "    for filename in (get_files_in_folder(test_folder)):\n",
        "      # Classify\n",
        "      #print(filename)\n",
        "      label,log_posterior = classify_new_email(filename,\n",
        "                                               probabilities_by_category,\n",
        "                                               priors_by_category, p_tradeoff)\n",
        "      \n",
        "      # Measure performance (the filename indicates the true label)\n",
        "      base = os.path.basename(filename)\n",
        "      true_index = ('ham' in base) \n",
        "      guessed_index = (label == 'ham')\n",
        "      performance_measures[int(true_index), int(guessed_index)] += 1\n",
        "\n",
        "    template=\"You correctly classified %d out of %d spam emails, and %d out of %d ham emails.\"\n",
        "    # Correct counts are on the diagonal\n",
        "    correct = np.diag(performance_measures)\n",
        "    # totals are obtained by summing across guessed labels\n",
        "    totals = np.sum(performance_measures, 1)\n",
        "    print(template % (correct[0],totals[0],correct[1],totals[1]))\n",
        "    error1 = totals[0] - correct[0]\n",
        "    error2 = totals[1] - correct[1]\n",
        "    return error1, error2\n"
      ],
      "execution_count": null,
      "outputs": []
    },
    {
      "cell_type": "code",
      "metadata": {
        "id": "3XNE7u7olYk-",
        "outputId": "03d0c8c3-3f94-4526-a1f0-cc4d95144ab7",
        "colab": {
          "base_uri": "https://localhost:8080/",
          "height": 495
        }
      },
      "source": [
        "error1 = []\n",
        "error2 = []\n",
        "\n",
        "error1_1, error2_1 = make_prediction([1-1e-120, 1e-120], test_folder, probabilities_by_category)\n",
        "error1_2, error2_2 = make_prediction([1-1e-50, 1e-50], test_folder, probabilities_by_category)\n",
        "error1_3, error2_3 = make_prediction([1-1e-30, 1e-30], test_folder, probabilities_by_category)\n",
        "error1_4, error2_4 = make_prediction([1-1e-10, 1e-10], test_folder, probabilities_by_category)\n",
        "error1_5, error2_5 = make_prediction([1-1e-1, 1e-1], test_folder, probabilities_by_category)\n",
        "error1_6, error2_6 = make_prediction([0.5, 0.5], test_folder, probabilities_by_category)\n",
        "error1_7, error2_7 = make_prediction([0.3, 0.7], test_folder, probabilities_by_category)\n",
        "error1_8, error2_8 = make_prediction([1e-10, 1-1e-10], test_folder, probabilities_by_category)\n",
        "error1_9, error2_9 = make_prediction([1e-20, 1-1e-20], test_folder, probabilities_by_category)\n",
        "error1_10, error2_10 = make_prediction([1e-120, 1-1e-120], test_folder, probabilities_by_category)\n",
        "\n",
        "error1 = [error1_1, error1_2, error1_3, error1_4, error1_5, error1_6, error1_7, error1_8, error1_9, error1_10]\n",
        "error2 = [error2_1, error2_2, error2_3, error2_4, error2_5, error2_6, error2_7, error2_8, error2_9, error2_10]\n",
        "print(error1, error2)\n",
        "plt.plot(error1, error2)\n",
        "plt.title(\"nbc\")\n",
        "plt.xlabel(\"number of Type 1 error\")\n",
        "plt.ylabel(\"number of Type 2 error\")"
      ],
      "execution_count": null,
      "outputs": [
        {
          "output_type": "stream",
          "text": [
            "You correctly classified 49 out of 49 spam emails, and 7 out of 51 ham emails.\n",
            "You correctly classified 49 out of 49 spam emails, and 14 out of 51 ham emails.\n",
            "You correctly classified 49 out of 49 spam emails, and 17 out of 51 ham emails.\n",
            "You correctly classified 49 out of 49 spam emails, and 34 out of 51 ham emails.\n",
            "You correctly classified 47 out of 49 spam emails, and 44 out of 51 ham emails.\n",
            "You correctly classified 47 out of 49 spam emails, and 47 out of 51 ham emails.\n",
            "You correctly classified 46 out of 49 spam emails, and 48 out of 51 ham emails.\n",
            "You correctly classified 35 out of 49 spam emails, and 50 out of 51 ham emails.\n",
            "You correctly classified 19 out of 49 spam emails, and 50 out of 51 ham emails.\n",
            "You correctly classified 2 out of 49 spam emails, and 51 out of 51 ham emails.\n",
            "[0.0, 0.0, 0.0, 0.0, 2.0, 2.0, 3.0, 14.0, 30.0, 47.0] [44.0, 37.0, 34.0, 17.0, 7.0, 4.0, 3.0, 1.0, 1.0, 0.0]\n"
          ],
          "name": "stdout"
        },
        {
          "output_type": "display_data",
          "data": {
            "image/png": "[encoded data removed]",
            "text/plain": [
              "<Figure size 432x288 with 1 Axes>"
            ]
          },
          "metadata": {
            "tags": []
          }
        }
      ]
    }
  ]
}